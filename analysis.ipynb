{
 "cells": [
  {
   "cell_type": "code",
   "execution_count": 2,
   "metadata": {},
   "outputs": [
    {
     "name": "stdout",
     "output_type": "stream",
     "text": [
      "Requirement already satisfied: pandas in /Users/navaneethb/.pyenv/versions/3.10.6/envs/movie_reccommendation/lib/python3.10/site-packages (from -r requirements.txt (line 1)) (2.0.2)\n",
      "Requirement already satisfied: scikit-learn in /Users/navaneethb/.pyenv/versions/3.10.6/envs/movie_reccommendation/lib/python3.10/site-packages (from -r requirements.txt (line 2)) (1.2.2)\n",
      "Collecting gunicorn (from -r requirements.txt (line 3))\n",
      "  Using cached gunicorn-20.1.0-py3-none-any.whl (79 kB)\n",
      "Requirement already satisfied: flask in /Users/navaneethb/.pyenv/versions/3.10.6/envs/movie_reccommendation/lib/python3.10/site-packages (from -r requirements.txt (line 4)) (2.3.2)\n",
      "Collecting flask_sqlalchemy (from -r requirements.txt (line 5))\n",
      "  Using cached flask_sqlalchemy-3.0.5-py3-none-any.whl (24 kB)\n",
      "Collecting flask_login (from -r requirements.txt (line 6))\n",
      "  Using cached Flask_Login-0.6.2-py3-none-any.whl (17 kB)\n",
      "Collecting pyOpenSSL (from -r requirements.txt (line 7))\n",
      "  Using cached pyOpenSSL-23.2.0-py3-none-any.whl (59 kB)\n",
      "Collecting requests (from -r requirements.txt (line 8))\n",
      "  Using cached requests-2.31.0-py3-none-any.whl (62 kB)\n",
      "Collecting oauthlib (from -r requirements.txt (line 9))\n",
      "  Using cached oauthlib-3.2.2-py3-none-any.whl (151 kB)\n",
      "Requirement already satisfied: python-dateutil>=2.8.2 in /Users/navaneethb/.pyenv/versions/3.10.6/envs/movie_reccommendation/lib/python3.10/site-packages (from pandas->-r requirements.txt (line 1)) (2.8.2)\n",
      "Requirement already satisfied: pytz>=2020.1 in /Users/navaneethb/.pyenv/versions/3.10.6/envs/movie_reccommendation/lib/python3.10/site-packages (from pandas->-r requirements.txt (line 1)) (2023.3)\n",
      "Requirement already satisfied: tzdata>=2022.1 in /Users/navaneethb/.pyenv/versions/3.10.6/envs/movie_reccommendation/lib/python3.10/site-packages (from pandas->-r requirements.txt (line 1)) (2023.3)\n",
      "Requirement already satisfied: numpy>=1.21.0 in /Users/navaneethb/.pyenv/versions/3.10.6/envs/movie_reccommendation/lib/python3.10/site-packages (from pandas->-r requirements.txt (line 1)) (1.24.3)\n",
      "Requirement already satisfied: scipy>=1.3.2 in /Users/navaneethb/.pyenv/versions/3.10.6/envs/movie_reccommendation/lib/python3.10/site-packages (from scikit-learn->-r requirements.txt (line 2)) (1.10.1)\n",
      "Requirement already satisfied: joblib>=1.1.1 in /Users/navaneethb/.pyenv/versions/3.10.6/envs/movie_reccommendation/lib/python3.10/site-packages (from scikit-learn->-r requirements.txt (line 2)) (1.2.0)\n",
      "Requirement already satisfied: threadpoolctl>=2.0.0 in /Users/navaneethb/.pyenv/versions/3.10.6/envs/movie_reccommendation/lib/python3.10/site-packages (from scikit-learn->-r requirements.txt (line 2)) (3.1.0)\n",
      "Requirement already satisfied: setuptools>=3.0 in /Users/navaneethb/.pyenv/versions/3.10.6/envs/movie_reccommendation/lib/python3.10/site-packages (from gunicorn->-r requirements.txt (line 3)) (63.2.0)\n",
      "Requirement already satisfied: Werkzeug>=2.3.3 in /Users/navaneethb/.pyenv/versions/3.10.6/envs/movie_reccommendation/lib/python3.10/site-packages (from flask->-r requirements.txt (line 4)) (2.3.4)\n",
      "Requirement already satisfied: Jinja2>=3.1.2 in /Users/navaneethb/.pyenv/versions/3.10.6/envs/movie_reccommendation/lib/python3.10/site-packages (from flask->-r requirements.txt (line 4)) (3.1.2)\n",
      "Requirement already satisfied: itsdangerous>=2.1.2 in /Users/navaneethb/.pyenv/versions/3.10.6/envs/movie_reccommendation/lib/python3.10/site-packages (from flask->-r requirements.txt (line 4)) (2.1.2)\n",
      "Requirement already satisfied: click>=8.1.3 in /Users/navaneethb/.pyenv/versions/3.10.6/envs/movie_reccommendation/lib/python3.10/site-packages (from flask->-r requirements.txt (line 4)) (8.1.3)\n",
      "Requirement already satisfied: blinker>=1.6.2 in /Users/navaneethb/.pyenv/versions/3.10.6/envs/movie_reccommendation/lib/python3.10/site-packages (from flask->-r requirements.txt (line 4)) (1.6.2)\n",
      "Collecting sqlalchemy>=1.4.18 (from flask_sqlalchemy->-r requirements.txt (line 5))\n",
      "  Downloading SQLAlchemy-2.0.17-cp310-cp310-macosx_11_0_arm64.whl (2.0 MB)\n",
      "\u001b[2K     \u001b[90m━━━━━━━━━━━━━━━━━━━━━━━━━━━━━━━━━━━━━━━━\u001b[0m \u001b[32m2.0/2.0 MB\u001b[0m \u001b[31m3.5 MB/s\u001b[0m eta \u001b[36m0:00:00\u001b[0m00:01\u001b[0m00:01\u001b[0m\n",
      "\u001b[?25hCollecting cryptography!=40.0.0,!=40.0.1,<42,>=38.0.0 (from pyOpenSSL->-r requirements.txt (line 7))\n",
      "  Using cached cryptography-41.0.1-cp37-abi3-macosx_10_12_universal2.whl (5.3 MB)\n",
      "Collecting charset-normalizer<4,>=2 (from requests->-r requirements.txt (line 8))\n",
      "  Using cached charset_normalizer-3.1.0-cp310-cp310-macosx_11_0_arm64.whl (123 kB)\n",
      "Collecting idna<4,>=2.5 (from requests->-r requirements.txt (line 8))\n",
      "  Using cached idna-3.4-py3-none-any.whl (61 kB)\n",
      "Collecting urllib3<3,>=1.21.1 (from requests->-r requirements.txt (line 8))\n",
      "  Using cached urllib3-2.0.3-py3-none-any.whl (123 kB)\n",
      "Collecting certifi>=2017.4.17 (from requests->-r requirements.txt (line 8))\n",
      "  Using cached certifi-2023.5.7-py3-none-any.whl (156 kB)\n",
      "Collecting cffi>=1.12 (from cryptography!=40.0.0,!=40.0.1,<42,>=38.0.0->pyOpenSSL->-r requirements.txt (line 7))\n",
      "  Using cached cffi-1.15.1-cp310-cp310-macosx_11_0_arm64.whl (174 kB)\n",
      "Requirement already satisfied: MarkupSafe>=2.0 in /Users/navaneethb/.pyenv/versions/3.10.6/envs/movie_reccommendation/lib/python3.10/site-packages (from Jinja2>=3.1.2->flask->-r requirements.txt (line 4)) (2.1.3)\n",
      "Requirement already satisfied: six>=1.5 in /Users/navaneethb/.pyenv/versions/3.10.6/envs/movie_reccommendation/lib/python3.10/site-packages (from python-dateutil>=2.8.2->pandas->-r requirements.txt (line 1)) (1.16.0)\n",
      "Collecting typing-extensions>=4.2.0 (from sqlalchemy>=1.4.18->flask_sqlalchemy->-r requirements.txt (line 5))\n",
      "  Downloading typing_extensions-4.7.0-py3-none-any.whl (33 kB)\n",
      "Collecting pycparser (from cffi>=1.12->cryptography!=40.0.0,!=40.0.1,<42,>=38.0.0->pyOpenSSL->-r requirements.txt (line 7))\n",
      "  Using cached pycparser-2.21-py2.py3-none-any.whl (118 kB)\n",
      "Installing collected packages: urllib3, typing-extensions, pycparser, oauthlib, idna, gunicorn, charset-normalizer, certifi, sqlalchemy, requests, cffi, flask_sqlalchemy, flask_login, cryptography, pyOpenSSL\n",
      "Successfully installed certifi-2023.5.7 cffi-1.15.1 charset-normalizer-3.1.0 cryptography-41.0.1 flask_login-0.6.2 flask_sqlalchemy-3.0.5 gunicorn-20.1.0 idna-3.4 oauthlib-3.2.2 pyOpenSSL-23.2.0 pycparser-2.21 requests-2.31.0 sqlalchemy-2.0.17 typing-extensions-4.7.0 urllib3-2.0.3\n",
      "Note: you may need to restart the kernel to use updated packages.\n"
     ]
    }
   ],
   "source": [
    "pip install -r requirements.txt\n"
   ]
  },
  {
   "cell_type": "code",
   "execution_count": 5,
   "metadata": {},
   "outputs": [
    {
     "name": "stdout",
     "output_type": "stream",
     "text": [
      "Collecting matplotlib\n",
      "  Using cached matplotlib-3.7.1-cp310-cp310-macosx_11_0_arm64.whl (7.3 MB)\n",
      "Collecting contourpy>=1.0.1 (from matplotlib)\n",
      "  Using cached contourpy-1.1.0-cp310-cp310-macosx_11_0_arm64.whl (229 kB)\n",
      "Collecting cycler>=0.10 (from matplotlib)\n",
      "  Using cached cycler-0.11.0-py3-none-any.whl (6.4 kB)\n",
      "Collecting fonttools>=4.22.0 (from matplotlib)\n",
      "  Using cached fonttools-4.40.0-cp310-cp310-macosx_10_9_universal2.whl (2.6 MB)\n",
      "Collecting kiwisolver>=1.0.1 (from matplotlib)\n",
      "  Using cached kiwisolver-1.4.4-cp310-cp310-macosx_11_0_arm64.whl (63 kB)\n",
      "Requirement already satisfied: numpy>=1.20 in /Users/navaneethb/.pyenv/versions/3.10.6/envs/movie_reccommendation/lib/python3.10/site-packages (from matplotlib) (1.24.3)\n",
      "Requirement already satisfied: packaging>=20.0 in /Users/navaneethb/.pyenv/versions/3.10.6/envs/movie_reccommendation/lib/python3.10/site-packages (from matplotlib) (23.1)\n",
      "Collecting pillow>=6.2.0 (from matplotlib)\n",
      "  Downloading Pillow-10.0.0-cp310-cp310-macosx_11_0_arm64.whl (3.1 MB)\n",
      "\u001b[2K     \u001b[90m━━━━━━━━━━━━━━━━━━━━━━━━━━━━━━━━━━━━━━━━\u001b[0m \u001b[32m3.1/3.1 MB\u001b[0m \u001b[31m6.0 MB/s\u001b[0m eta \u001b[36m0:00:00\u001b[0ma \u001b[36m0:00:01\u001b[0m\n",
      "\u001b[?25hCollecting pyparsing>=2.3.1 (from matplotlib)\n",
      "  Using cached pyparsing-3.1.0-py3-none-any.whl (102 kB)\n",
      "Requirement already satisfied: python-dateutil>=2.7 in /Users/navaneethb/.pyenv/versions/3.10.6/envs/movie_reccommendation/lib/python3.10/site-packages (from matplotlib) (2.8.2)\n",
      "Requirement already satisfied: six>=1.5 in /Users/navaneethb/.pyenv/versions/3.10.6/envs/movie_reccommendation/lib/python3.10/site-packages (from python-dateutil>=2.7->matplotlib) (1.16.0)\n",
      "Installing collected packages: pyparsing, pillow, kiwisolver, fonttools, cycler, contourpy, matplotlib\n",
      "Successfully installed contourpy-1.1.0 cycler-0.11.0 fonttools-4.40.0 kiwisolver-1.4.4 matplotlib-3.7.1 pillow-10.0.0 pyparsing-3.1.0\n",
      "Note: you may need to restart the kernel to use updated packages.\n"
     ]
    }
   ],
   "source": [
    "pip install matplotlib"
   ]
  },
  {
   "cell_type": "code",
   "execution_count": 6,
   "metadata": {},
   "outputs": [],
   "source": [
    "from sqlalchemy import create_engine, text\n",
    "import pandas as pd\n",
    "import matplotlib.pyplot as plt\n",
    "import numpy as np"
   ]
  },
  {
   "cell_type": "code",
   "execution_count": 8,
   "metadata": {},
   "outputs": [],
   "source": [
    "# Create engine\n",
    "engine = create_engine('sqlite:///movie-night.db')\n",
    "\n",
    "# Get connection\n",
    "connection = engine.connect()"
   ]
  },
  {
   "cell_type": "code",
   "execution_count": 9,
   "metadata": {},
   "outputs": [],
   "source": [
    "# Execute select query to fetch popularity from Actor table\n",
    "actor_popularity_query = text(\"SELECT popularity FROM Actor\")\n",
    "actor_popularity_result = connection.execute(actor_popularity_query)\n",
    "actor_popularity = [row[0] for row in actor_popularity_result]\n"
   ]
  },
  {
   "cell_type": "code",
   "execution_count": 10,
   "metadata": {},
   "outputs": [],
   "source": [
    "# Execute select query to fetch popularity from Director table\n",
    "director_popularity_query = text(\"SELECT popularity FROM Director\")\n",
    "director_popularity_result = connection.execute(director_popularity_query)\n",
    "director_popularity = [row[0] for row in director_popularity_result]"
   ]
  },
  {
   "cell_type": "code",
   "execution_count": 39,
   "metadata": {},
   "outputs": [],
   "source": [
    "actor_popularity_df = pd.DataFrame(actor_popularity, columns=['popularity'])\n",
    "director_popularity_df = pd.DataFrame(director_popularity, columns=['popularity'])"
   ]
  },
  {
   "cell_type": "code",
   "execution_count": 42,
   "metadata": {},
   "outputs": [
    {
     "data": {
      "text/html": [
       "<div>\n",
       "<style scoped>\n",
       "    .dataframe tbody tr th:only-of-type {\n",
       "        vertical-align: middle;\n",
       "    }\n",
       "\n",
       "    .dataframe tbody tr th {\n",
       "        vertical-align: top;\n",
       "    }\n",
       "\n",
       "    .dataframe thead th {\n",
       "        text-align: right;\n",
       "    }\n",
       "</style>\n",
       "<table border=\"1\" class=\"dataframe\">\n",
       "  <thead>\n",
       "    <tr style=\"text-align: right;\">\n",
       "      <th></th>\n",
       "      <th>popularity</th>\n",
       "    </tr>\n",
       "  </thead>\n",
       "  <tbody>\n",
       "    <tr>\n",
       "      <th>0</th>\n",
       "      <td>0.60</td>\n",
       "    </tr>\n",
       "    <tr>\n",
       "      <th>1</th>\n",
       "      <td>0.60</td>\n",
       "    </tr>\n",
       "    <tr>\n",
       "      <th>2</th>\n",
       "      <td>0.60</td>\n",
       "    </tr>\n",
       "    <tr>\n",
       "      <th>3</th>\n",
       "      <td>0.60</td>\n",
       "    </tr>\n",
       "    <tr>\n",
       "      <th>4</th>\n",
       "      <td>0.60</td>\n",
       "    </tr>\n",
       "    <tr>\n",
       "      <th>...</th>\n",
       "      <td>...</td>\n",
       "    </tr>\n",
       "    <tr>\n",
       "      <th>1552222</th>\n",
       "      <td>0.60</td>\n",
       "    </tr>\n",
       "    <tr>\n",
       "      <th>1552223</th>\n",
       "      <td>0.60</td>\n",
       "    </tr>\n",
       "    <tr>\n",
       "      <th>1552224</th>\n",
       "      <td>1.38</td>\n",
       "    </tr>\n",
       "    <tr>\n",
       "      <th>1552225</th>\n",
       "      <td>0.60</td>\n",
       "    </tr>\n",
       "    <tr>\n",
       "      <th>1552226</th>\n",
       "      <td>0.60</td>\n",
       "    </tr>\n",
       "  </tbody>\n",
       "</table>\n",
       "<p>1552227 rows × 1 columns</p>\n",
       "</div>"
      ],
      "text/plain": [
       "         popularity\n",
       "0              0.60\n",
       "1              0.60\n",
       "2              0.60\n",
       "3              0.60\n",
       "4              0.60\n",
       "...             ...\n",
       "1552222        0.60\n",
       "1552223        0.60\n",
       "1552224        1.38\n",
       "1552225        0.60\n",
       "1552226        0.60\n",
       "\n",
       "[1552227 rows x 1 columns]"
      ]
     },
     "execution_count": 42,
     "metadata": {},
     "output_type": "execute_result"
    }
   ],
   "source": [
    "actor_popularity_df"
   ]
  },
  {
   "cell_type": "code",
   "execution_count": 43,
   "metadata": {},
   "outputs": [
    {
     "data": {
      "text/html": [
       "<div>\n",
       "<style scoped>\n",
       "    .dataframe tbody tr th:only-of-type {\n",
       "        vertical-align: middle;\n",
       "    }\n",
       "\n",
       "    .dataframe tbody tr th {\n",
       "        vertical-align: top;\n",
       "    }\n",
       "\n",
       "    .dataframe thead th {\n",
       "        text-align: right;\n",
       "    }\n",
       "</style>\n",
       "<table border=\"1\" class=\"dataframe\">\n",
       "  <thead>\n",
       "    <tr style=\"text-align: right;\">\n",
       "      <th></th>\n",
       "      <th>popularity</th>\n",
       "    </tr>\n",
       "  </thead>\n",
       "  <tbody>\n",
       "    <tr>\n",
       "      <th>0</th>\n",
       "      <td>0.600</td>\n",
       "    </tr>\n",
       "    <tr>\n",
       "      <th>1</th>\n",
       "      <td>0.656</td>\n",
       "    </tr>\n",
       "    <tr>\n",
       "      <th>2</th>\n",
       "      <td>0.600</td>\n",
       "    </tr>\n",
       "    <tr>\n",
       "      <th>3</th>\n",
       "      <td>0.600</td>\n",
       "    </tr>\n",
       "    <tr>\n",
       "      <th>4</th>\n",
       "      <td>0.600</td>\n",
       "    </tr>\n",
       "    <tr>\n",
       "      <th>...</th>\n",
       "      <td>...</td>\n",
       "    </tr>\n",
       "    <tr>\n",
       "      <th>253470</th>\n",
       "      <td>0.600</td>\n",
       "    </tr>\n",
       "    <tr>\n",
       "      <th>253471</th>\n",
       "      <td>0.600</td>\n",
       "    </tr>\n",
       "    <tr>\n",
       "      <th>253472</th>\n",
       "      <td>0.600</td>\n",
       "    </tr>\n",
       "    <tr>\n",
       "      <th>253473</th>\n",
       "      <td>0.600</td>\n",
       "    </tr>\n",
       "    <tr>\n",
       "      <th>253474</th>\n",
       "      <td>0.600</td>\n",
       "    </tr>\n",
       "  </tbody>\n",
       "</table>\n",
       "<p>253475 rows × 1 columns</p>\n",
       "</div>"
      ],
      "text/plain": [
       "        popularity\n",
       "0            0.600\n",
       "1            0.656\n",
       "2            0.600\n",
       "3            0.600\n",
       "4            0.600\n",
       "...            ...\n",
       "253470       0.600\n",
       "253471       0.600\n",
       "253472       0.600\n",
       "253473       0.600\n",
       "253474       0.600\n",
       "\n",
       "[253475 rows x 1 columns]"
      ]
     },
     "execution_count": 43,
     "metadata": {},
     "output_type": "execute_result"
    }
   ],
   "source": [
    "director_popularity_df"
   ]
  },
  {
   "cell_type": "code",
   "execution_count": 50,
   "metadata": {},
   "outputs": [
    {
     "name": "stdout",
     "output_type": "stream",
     "text": [
      "Actor Mean\n"
     ]
    },
    {
     "data": {
      "text/plain": [
       "popularity    0.831248\n",
       "dtype: float64"
      ]
     },
     "execution_count": 50,
     "metadata": {},
     "output_type": "execute_result"
    }
   ],
   "source": [
    "#Actor Mean\n",
    "print(\"Actor Mean\")\n",
    "actor_popularity_df.mean()"
   ]
  },
  {
   "cell_type": "code",
   "execution_count": 51,
   "metadata": {},
   "outputs": [
    {
     "name": "stdout",
     "output_type": "stream",
     "text": [
      "Director Mean\n"
     ]
    },
    {
     "data": {
      "text/plain": [
       "popularity    0.677333\n",
       "dtype: float64"
      ]
     },
     "execution_count": 51,
     "metadata": {},
     "output_type": "execute_result"
    }
   ],
   "source": [
    "#Director Mean\n",
    "print(\"Director Mean\")\n",
    "director_popularity_df.mean()"
   ]
  },
  {
   "cell_type": "code",
   "execution_count": 52,
   "metadata": {},
   "outputs": [
    {
     "name": "stdout",
     "output_type": "stream",
     "text": [
      "Actor Standard Deviation\n"
     ]
    },
    {
     "data": {
      "text/plain": [
       "popularity    1.389514\n",
       "dtype: float64"
      ]
     },
     "execution_count": 52,
     "metadata": {},
     "output_type": "execute_result"
    }
   ],
   "source": [
    "#Actor Standard Deviation\n",
    "print(\"Actor Standard Deviation\")\n",
    "actor_popularity_df.std()"
   ]
  },
  {
   "cell_type": "code",
   "execution_count": 53,
   "metadata": {},
   "outputs": [
    {
     "name": "stdout",
     "output_type": "stream",
     "text": [
      "Director Standard Deviation\n"
     ]
    },
    {
     "data": {
      "text/plain": [
       "popularity    0.466521\n",
       "dtype: float64"
      ]
     },
     "execution_count": 53,
     "metadata": {},
     "output_type": "execute_result"
    }
   ],
   "source": [
    "# Director Standard Deviation\n",
    "print(\"Director Standard Deviation\")\n",
    "director_popularity_df.std()"
   ]
  },
  {
   "cell_type": "code",
   "execution_count": 54,
   "metadata": {},
   "outputs": [
    {
     "name": "stdout",
     "output_type": "stream",
     "text": [
      "Actor Variance\n"
     ]
    },
    {
     "data": {
      "text/plain": [
       "popularity    1.930748\n",
       "dtype: float64"
      ]
     },
     "execution_count": 54,
     "metadata": {},
     "output_type": "execute_result"
    }
   ],
   "source": [
    "#Actor Variance\n",
    "print(\"Actor Variance\")\n",
    "actor_popularity_df.var()"
   ]
  },
  {
   "cell_type": "code",
   "execution_count": 55,
   "metadata": {},
   "outputs": [
    {
     "name": "stdout",
     "output_type": "stream",
     "text": [
      "Director Variance\n"
     ]
    },
    {
     "data": {
      "text/plain": [
       "popularity    0.217642\n",
       "dtype: float64"
      ]
     },
     "execution_count": 55,
     "metadata": {},
     "output_type": "execute_result"
    }
   ],
   "source": [
    "#Director Variance\n",
    "print(\"Director Variance\")\n",
    "director_popularity_df.var()"
   ]
  },
  {
   "cell_type": "code",
   "execution_count": 40,
   "metadata": {},
   "outputs": [
    {
     "data": {
      "image/png": "[encoded data removed]",
      "text/plain": [
       "<Figure size 1000x500 with 1 Axes>"
      ]
     },
     "metadata": {},
     "output_type": "display_data"
    }
   ],
   "source": [
    "plt.figure(figsize=(10, 5))\n",
    "plt.hist(actor_popularity_df['popularity'], bins=50, alpha=0.5, color='green')\n",
    "plt.title('Actor Popularity Distribution')\n",
    "plt.xlabel('Popularity')\n",
    "plt.ylabel('Frequency')\n",
    "plt.grid(True)\n",
    "#plt.savefig(filename)\n",
    "#plt.close() # Close the plot\n",
    "plt.show()\n",
    "plt.close()"
   ]
  },
  {
   "cell_type": "code",
   "execution_count": 38,
   "metadata": {},
   "outputs": [
    {
     "data": {
      "image/png": "[encoded data removed]",
      "text/plain": [
       "<Figure size 1000x500 with 1 Axes>"
      ]
     },
     "metadata": {},
     "output_type": "display_data"
    }
   ],
   "source": [
    "plt.figure(figsize=(10, 5))\n",
    "plt.hist(director_popularity_df['popularity'], bins=50, alpha=0.5, color='green')\n",
    "plt.title('Director Popularity Distribution')\n",
    "plt.xlabel('Popularity')\n",
    "plt.ylabel('Frequency')\n",
    "plt.grid(True)\n",
    "#plt.savefig(filename)\n",
    "#plt.close() # Close the plot\n",
    "plt.show()\n",
    "plt.close()"
   ]
  }
 ],
 "metadata": {
  "kernelspec": {
   "display_name": "movie_reccommendation",
   "language": "python",
   "name": "python3"
  },
  "language_info": {
   "codemirror_mode": {
    "name": "ipython",
    "version": 3
   },
   "file_extension": ".py",
   "mimetype": "text/x-python",
   "name": "python",
   "nbconvert_exporter": "python",
   "pygments_lexer": "ipython3",
   "version": "3.10.6"
  },
  "orig_nbformat": 4
 },
 "nbformat": 4,
 "nbformat_minor": 2
}
